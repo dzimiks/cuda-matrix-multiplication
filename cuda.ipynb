{
  "nbformat": 4,
  "nbformat_minor": 0,
  "metadata": {
    "colab": {
      "name": "Projekat2.ipynb",
      "provenance": [],
      "collapsed_sections": []
    },
    "kernelspec": {
      "name": "python3",
      "display_name": "Python 3"
    },
    "accelerator": "GPU"
  },
  "cells": [
    {
      "cell_type": "markdown",
      "metadata": {
        "id": "NMZm0YTUOnR3",
        "colab_type": "text"
      },
      "source": [
        "# Projekat 2\n",
        "- Rok za predaju je termin odbrane u toku 2. kolokvijumske nedelje\n",
        "- Projekat je moguće raditi u paru ili samostalno\n",
        "- Svaka stavka nosi po 10 bodova\n",
        "\n",
        "Koristeći PyCuda okurženje napisati CUDA program za (matrično) množenje matrica.\n",
        "\n",
        "1. Program koji vrši množenja matrica malih dimenzija (množenje se može izvršiti upotrebom jednom bloka niti)\n",
        "2. Probram koji vrši množenje matrica većih dimenzija, upotrebom većeg broja CUDA blokova.\n",
        "3. Ubrzati rešenje iz stavke 2 upotrebom deljene memorije (tako da niti jednog bloka prvo dovuku deo podataka u deljenu memeorju, a potom sve čitaju iz deljene memorije)\n",
        "4. Izmeniti rešenje iz tačke 3 tako da se pri množenju druga matrica transponuje ($Rezultat = A \\cdot B^T$)"
      ]
    },
    {
      "cell_type": "code",
      "metadata": {
        "id": "yZQuEf7PQH8R",
        "colab_type": "code",
        "outputId": "5c295f3b-a08b-41a1-c03a-27ab4347d9e9",
        "colab": {
          "base_uri": "https://localhost:8080/",
          "height": 472
        }
      },
      "source": [
        "!pip install pycuda"
      ],
      "execution_count": 0,
      "outputs": [
        {
          "output_type": "stream",
          "text": [
            "Collecting pycuda\n",
            "\u001b[?25l  Downloading https://files.pythonhosted.org/packages/5e/3f/5658c38579b41866ba21ee1b5020b8225cec86fe717e4b1c5c972de0a33c/pycuda-2019.1.2.tar.gz (1.6MB)\n",
            "\u001b[K     |████████████████████████████████| 1.6MB 44.6MB/s \n",
            "\u001b[?25hCollecting pytools>=2011.2\n",
            "\u001b[?25l  Downloading https://files.pythonhosted.org/packages/00/96/00416762a3eda8876a17d007df4a946f46b2e4ee1057e0b9714926472ef8/pytools-2019.1.1.tar.gz (58kB)\n",
            "\u001b[K     |████████████████████████████████| 61kB 10.9MB/s \n",
            "\u001b[?25hRequirement already satisfied: decorator>=3.2.0 in /usr/local/lib/python3.6/dist-packages (from pycuda) (4.4.1)\n",
            "Collecting appdirs>=1.4.0\n",
            "  Downloading https://files.pythonhosted.org/packages/56/eb/810e700ed1349edde4cbdc1b2a21e28cdf115f9faf263f6bbf8447c1abf3/appdirs-1.4.3-py2.py3-none-any.whl\n",
            "Collecting mako\n",
            "\u001b[?25l  Downloading https://files.pythonhosted.org/packages/b0/3c/8dcd6883d009f7cae0f3157fb53e9afb05a0d3d33b3db1268ec2e6f4a56b/Mako-1.1.0.tar.gz (463kB)\n",
            "\u001b[K     |████████████████████████████████| 471kB 50.7MB/s \n",
            "\u001b[?25hRequirement already satisfied: six>=1.8.0 in /usr/local/lib/python3.6/dist-packages (from pytools>=2011.2->pycuda) (1.12.0)\n",
            "Requirement already satisfied: numpy>=1.6.0 in /usr/local/lib/python3.6/dist-packages (from pytools>=2011.2->pycuda) (1.17.4)\n",
            "Requirement already satisfied: MarkupSafe>=0.9.2 in /usr/local/lib/python3.6/dist-packages (from mako->pycuda) (1.1.1)\n",
            "Building wheels for collected packages: pycuda, pytools, mako\n",
            "  Building wheel for pycuda (setup.py) ... \u001b[?25l\u001b[?25hdone\n",
            "  Created wheel for pycuda: filename=pycuda-2019.1.2-cp36-cp36m-linux_x86_64.whl size=4536631 sha256=38ce925e7746c8be055ee3be66c741b96f362768bca4f81c4f9283c3135b8538\n",
            "  Stored in directory: /root/.cache/pip/wheels/a6/60/f0/b1c430c73d281ac3e46070480db50f7907364eb6f6d3188396\n",
            "  Building wheel for pytools (setup.py) ... \u001b[?25l\u001b[?25hdone\n",
            "  Created wheel for pytools: filename=pytools-2019.1.1-py2.py3-none-any.whl size=58424 sha256=57eed7afa606b28999baafcbf190a01da60de508ecf38462a0f2cb5a293ef33d\n",
            "  Stored in directory: /root/.cache/pip/wheels/83/df/0b/75ac4572aaa93e3eba6a58472635d0fda907f5f4cf884a3a0c\n",
            "  Building wheel for mako (setup.py) ... \u001b[?25l\u001b[?25hdone\n",
            "  Created wheel for mako: filename=Mako-1.1.0-cp36-none-any.whl size=75363 sha256=816246a1416f287a39afab4bb0a04f9c034a862b1a5f2013720d4838614cbede\n",
            "  Stored in directory: /root/.cache/pip/wheels/98/32/7b/a291926643fc1d1e02593e0d9e247c5a866a366b8343b7aa27\n",
            "Successfully built pycuda pytools mako\n",
            "Installing collected packages: appdirs, pytools, mako, pycuda\n",
            "Successfully installed appdirs-1.4.3 mako-1.1.0 pycuda-2019.1.2 pytools-2019.1.1\n"
          ],
          "name": "stdout"
        }
      ]
    },
    {
      "cell_type": "code",
      "metadata": {
        "id": "e_Uf0i5ijDQ7",
        "colab_type": "code",
        "outputId": "d0944434-ba64-414d-ef34-55c8baa56870",
        "colab": {
          "base_uri": "https://localhost:8080/",
          "height": 293
        }
      },
      "source": [
        "!nvidia-smi"
      ],
      "execution_count": 0,
      "outputs": [
        {
          "output_type": "stream",
          "text": [
            "Thu Dec 19 16:52:04 2019       \n",
            "+-----------------------------------------------------------------------------+\n",
            "| NVIDIA-SMI 440.44       Driver Version: 418.67       CUDA Version: 10.1     |\n",
            "|-------------------------------+----------------------+----------------------+\n",
            "| GPU  Name        Persistence-M| Bus-Id        Disp.A | Volatile Uncorr. ECC |\n",
            "| Fan  Temp  Perf  Pwr:Usage/Cap|         Memory-Usage | GPU-Util  Compute M. |\n",
            "|===============================+======================+======================|\n",
            "|   0  Tesla P4            Off  | 00000000:00:04.0 Off |                    0 |\n",
            "| N/A   34C    P8     7W /  75W |      0MiB /  7611MiB |      0%      Default |\n",
            "+-------------------------------+----------------------+----------------------+\n",
            "                                                                               \n",
            "+-----------------------------------------------------------------------------+\n",
            "| Processes:                                                       GPU Memory |\n",
            "|  GPU       PID   Type   Process name                             Usage      |\n",
            "|=============================================================================|\n",
            "|  No running processes found                                                 |\n",
            "+-----------------------------------------------------------------------------+\n"
          ],
          "name": "stdout"
        }
      ]
    },
    {
      "cell_type": "markdown",
      "metadata": {
        "id": "S-mBbf6flkqN",
        "colab_type": "text"
      },
      "source": [
        "1. Program koji vrši množenja matrica malih dimenzija (množenje se može izvršiti upotrebom jednom bloka niti)"
      ]
    },
    {
      "cell_type": "code",
      "metadata": {
        "id": "Bp1RxjsGkIzx",
        "colab_type": "code",
        "outputId": "db053e49-f732-45eb-b5de-5e3cecaa1e4b",
        "colab": {
          "base_uri": "https://localhost:8080/",
          "height": 82
        }
      },
      "source": [
        "import pycuda.driver as cuda\n",
        "import pycuda.autoinit\n",
        "from pycuda.compiler import SourceModule\n",
        "\n",
        "mod = SourceModule(\"\"\" \n",
        "        __global__ void multiplyMatrixOneBlock(float *a,float *b, float *c, int colsA,int colsB){\n",
        "              int idxC = threadIdx.x+threadIdx.y*colsB;\n",
        "              int idxA = threadIdx.y*colsA;\n",
        "              int idxB = threadIdx.x;\n",
        "\n",
        "              int i=0;\n",
        "\n",
        "              for(i;i<colsA;i++){\n",
        "                c[idxC] += a[idxA+i]*b[idxB];\n",
        "                idxB += colsB;\n",
        "              }\n",
        "            }\n",
        "        \"\"\")"
      ],
      "execution_count": 0,
      "outputs": [
        {
          "output_type": "stream",
          "text": [
            "/usr/local/lib/python3.6/dist-packages/ipykernel_launcher.py:18: UserWarning: The CUDA compiler succeeded, but said the following:\n",
            "kernel.cu(10): warning: expression has no effect\n",
            "\n",
            "\n"
          ],
          "name": "stderr"
        }
      ]
    },
    {
      "cell_type": "code",
      "metadata": {
        "id": "ClNGBOM17q-m",
        "colab_type": "code",
        "outputId": "2ea71638-c7d8-4f15-c0a7-9dfb6203b36d",
        "colab": {
          "base_uri": "https://localhost:8080/",
          "height": 1000
        }
      },
      "source": [
        "import numpy as np\n",
        "\n",
        "a = np.random.randn(20,10).astype(dtype=np.float32)\n",
        "b = np.random.randn(10,10).astype(dtype=np.float32)\n",
        "# print(b)\n",
        "res = a.dot(b)\n",
        "\n",
        "c = np.zeros_like(res)\n",
        "# print(c)\n",
        "\n",
        "a_gpu = cuda.mem_alloc(a.nbytes)\n",
        "cuda.memcpy_htod(a_gpu,a)\n",
        "\n",
        "b_gpu = cuda.mem_alloc(b.nbytes)\n",
        "cuda.memcpy_htod(b_gpu,b)\n",
        "\n",
        "c_gpu = cuda.mem_alloc(c.nbytes)\n",
        "cuda.memcpy_htod(c_gpu,c)\n",
        "\n",
        "func = mod.get_function(\"multiplyMatrixOneBlock\")\n",
        "func(a_gpu,b_gpu,c_gpu,np.int32(a.shape[1]),np.int32(b.shape[1]),block=(np.int(b.shape[1]),np.int(a.shape[0]),1),grid=(1,1,1))\n",
        "\n",
        "cuda.memcpy_dtoh(c,c_gpu)\n",
        "\n",
        "print(res)\n",
        "print(\"\\n\")\n",
        "print(c)\n",
        "\n",
        "print(\"Dobijen ocekivan rezultat: \",(c==res).all())\n"
      ],
      "execution_count": 0,
      "outputs": [
        {
          "output_type": "stream",
          "text": [
            "[[ 6.3911610e+00  1.0221982e+00 -8.5005313e-02  1.9880366e+00\n",
            "  -6.4945817e-01  1.9238430e+00 -2.1429772e+00 -1.0079645e+00\n",
            "   1.1161232e+00  4.2055637e-01]\n",
            " [ 1.7334768e-01  6.1608270e-02 -2.4337206e+00  1.1337092e-01\n",
            "   2.6067014e+00 -1.9993405e+00 -1.5743302e+00  8.1213498e-01\n",
            "   3.9028460e-01 -8.2406896e-01]\n",
            " [-4.1025046e-02 -2.3925798e+00 -1.4787147e+00  2.0284991e+00\n",
            "  -2.3220094e-01 -7.4490100e-01  1.1805792e+00  2.3373911e+00\n",
            "  -3.2321701e+00 -3.0012908e+00]\n",
            " [-2.4612210e+00  1.1300583e+00  1.0958425e+00 -4.2690164e-01\n",
            "   8.7957931e-01  1.3533710e+00 -4.6909055e-01 -1.2978941e-01\n",
            "   4.2880520e-01  4.6252719e-01]\n",
            " [-9.7801048e-01 -1.0025293e+00 -2.3281341e+00 -1.7007207e+00\n",
            "   3.9787742e-01  9.9198765e-01 -2.6226246e+00  3.0047281e+00\n",
            "  -4.2363439e-02 -7.7633488e-01]\n",
            " [-2.5449617e+00 -1.3945469e+00 -9.0498984e-01 -1.0156323e+00\n",
            "  -1.4662622e+00 -1.2191536e+00 -4.5226914e-01  8.5056275e-01\n",
            "   1.7681444e+00 -6.9471769e-02]\n",
            " [ 1.6800536e+00  1.7488817e+00  2.6348259e+00  2.2133408e+00\n",
            "  -5.5253010e+00  3.3387775e+00  5.1354355e-01 -3.8842733e+00\n",
            "   4.2638903e+00  2.3820617e+00]\n",
            " [ 3.1898918e+00  1.1216751e+00 -2.2134497e+00 -3.8569348e+00\n",
            "  -4.9980330e+00  7.9760104e-01 -1.8523544e+00 -3.6127679e+00\n",
            "   4.5641551e+00  1.1403509e+00]\n",
            " [ 2.2173703e+00  2.4766567e+00  1.3122303e+00 -1.4966741e-03\n",
            "   1.2778707e+00 -1.0463082e+00 -3.7539911e+00 -7.8051466e-01\n",
            "   5.2971678e+00  2.4697361e+00]\n",
            " [-1.0858114e+00 -3.1481557e+00  9.8326612e-01  1.1003523e+00\n",
            "  -2.6750345e+00 -2.0427012e+00  2.3356442e+00  1.2537197e+00\n",
            "  -3.8027155e-01  1.6403197e-01]\n",
            " [ 6.0360783e-01 -1.1637615e+00  1.0138959e+00 -1.2060654e+00\n",
            "   7.6592249e-01  6.3655987e-02 -1.3700575e+00  1.8175610e+00\n",
            "  -1.3074656e+00  1.2804013e+00]\n",
            " [ 2.4109404e+00 -1.5708416e+00 -2.6837310e-01  3.7003694e+00\n",
            "  -1.4867941e+00 -7.0235348e-01 -4.0578256e+00  2.9658558e+00\n",
            "   5.5277781e+00 -7.7952556e-02]\n",
            " [ 1.8609481e+00 -5.5522680e-01  2.4969137e+00  2.2957680e+00\n",
            "  -1.8280925e+00  1.9723586e+00  1.3895212e+00  6.7139524e-03\n",
            "  -9.9866217e-01  1.4810767e+00]\n",
            " [-1.8551835e+00 -2.7619569e+00  5.8933651e-01  3.9547656e+00\n",
            "  -1.9089299e+00 -1.1888592e+00  2.6970658e+00  7.6549488e-01\n",
            "  -9.0045542e-01 -1.1758751e+00]\n",
            " [ 1.3494288e+00  1.2835245e+00  6.0912700e+00  2.5417461e+00\n",
            "  -1.2221202e+00 -4.6109877e+00  3.4766984e+00 -6.2678580e+00\n",
            "   5.1276841e+00  5.0456133e+00]\n",
            " [ 5.0793581e+00  1.3617985e+00 -3.8499842e+00 -1.9791466e+00\n",
            "   3.8464417e+00 -1.2990644e+00 -3.3667698e+00  8.8515610e-01\n",
            "  -4.2270860e-01 -1.3495345e+00]\n",
            " [ 1.5709352e-01 -3.1838527e-01 -1.9105899e+00  4.3830624e+00\n",
            "   3.8858807e+00 -1.0818586e-01  9.4669193e-01 -1.2525387e+00\n",
            "  -3.4064965e+00 -4.6450491e+00]\n",
            " [-2.6093035e+00 -1.7076939e-01  1.1857625e+00 -1.0427721e+00\n",
            "   3.3869727e+00 -3.8327658e+00  1.0584413e+00 -1.3060584e+00\n",
            "   3.6864170e-01 -7.9873866e-01]\n",
            " [ 5.5505896e+00 -1.3506575e+00 -3.9064133e+00 -1.2593836e+00\n",
            "  -3.8771501e+00  1.5656576e+00 -5.2948022e-01  2.6208627e+00\n",
            "  -2.0470293e+00 -1.5917586e+00]\n",
            " [-3.6710413e+00  4.1705337e-01  1.9619452e+00  1.0237159e+00\n",
            "   5.6169353e+00 -5.0976796e+00 -2.5042636e+00  8.3868629e-01\n",
            "   3.8356581e+00  1.6901958e-01]]\n",
            "\n",
            "\n",
            "[[ 6.3911610e+00  1.0221982e+00 -8.5005313e-02  1.9880366e+00\n",
            "  -6.4945817e-01  1.9238430e+00 -2.1429772e+00 -1.0079645e+00\n",
            "   1.1161232e+00  4.2055637e-01]\n",
            " [ 1.7334768e-01  6.1608270e-02 -2.4337206e+00  1.1337092e-01\n",
            "   2.6067014e+00 -1.9993405e+00 -1.5743302e+00  8.1213498e-01\n",
            "   3.9028460e-01 -8.2406896e-01]\n",
            " [-4.1025046e-02 -2.3925798e+00 -1.4787147e+00  2.0284991e+00\n",
            "  -2.3220094e-01 -7.4490100e-01  1.1805792e+00  2.3373911e+00\n",
            "  -3.2321701e+00 -3.0012908e+00]\n",
            " [-2.4612210e+00  1.1300583e+00  1.0958425e+00 -4.2690164e-01\n",
            "   8.7957931e-01  1.3533710e+00 -4.6909055e-01 -1.2978941e-01\n",
            "   4.2880520e-01  4.6252719e-01]\n",
            " [-9.7801048e-01 -1.0025293e+00 -2.3281341e+00 -1.7007207e+00\n",
            "   3.9787742e-01  9.9198765e-01 -2.6226246e+00  3.0047281e+00\n",
            "  -4.2363439e-02 -7.7633488e-01]\n",
            " [-2.5449617e+00 -1.3945469e+00 -9.0498984e-01 -1.0156323e+00\n",
            "  -1.4662622e+00 -1.2191536e+00 -4.5226914e-01  8.5056275e-01\n",
            "   1.7681444e+00 -6.9471769e-02]\n",
            " [ 1.6800536e+00  1.7488817e+00  2.6348259e+00  2.2133408e+00\n",
            "  -5.5253010e+00  3.3387775e+00  5.1354355e-01 -3.8842733e+00\n",
            "   4.2638903e+00  2.3820617e+00]\n",
            " [ 3.1898918e+00  1.1216751e+00 -2.2134497e+00 -3.8569348e+00\n",
            "  -4.9980330e+00  7.9760104e-01 -1.8523544e+00 -3.6127679e+00\n",
            "   4.5641551e+00  1.1403509e+00]\n",
            " [ 2.2173703e+00  2.4766567e+00  1.3122303e+00 -1.4966741e-03\n",
            "   1.2778707e+00 -1.0463082e+00 -3.7539911e+00 -7.8051466e-01\n",
            "   5.2971678e+00  2.4697361e+00]\n",
            " [-1.0858114e+00 -3.1481557e+00  9.8326612e-01  1.1003523e+00\n",
            "  -2.6750345e+00 -2.0427012e+00  2.3356442e+00  1.2537197e+00\n",
            "  -3.8027155e-01  1.6403197e-01]\n",
            " [ 6.0360783e-01 -1.1637615e+00  1.0138959e+00 -1.2060654e+00\n",
            "   7.6592249e-01  6.3655987e-02 -1.3700575e+00  1.8175610e+00\n",
            "  -1.3074656e+00  1.2804013e+00]\n",
            " [ 2.4109404e+00 -1.5708416e+00 -2.6837310e-01  3.7003694e+00\n",
            "  -1.4867941e+00 -7.0235348e-01 -4.0578256e+00  2.9658558e+00\n",
            "   5.5277781e+00 -7.7952556e-02]\n",
            " [ 1.8609481e+00 -5.5522680e-01  2.4969137e+00  2.2957680e+00\n",
            "  -1.8280925e+00  1.9723586e+00  1.3895212e+00  6.7139524e-03\n",
            "  -9.9866217e-01  1.4810767e+00]\n",
            " [-1.8551835e+00 -2.7619569e+00  5.8933651e-01  3.9547656e+00\n",
            "  -1.9089299e+00 -1.1888592e+00  2.6970658e+00  7.6549488e-01\n",
            "  -9.0045542e-01 -1.1758751e+00]\n",
            " [ 1.3494288e+00  1.2835245e+00  6.0912700e+00  2.5417461e+00\n",
            "  -1.2221202e+00 -4.6109877e+00  3.4766984e+00 -6.2678580e+00\n",
            "   5.1276841e+00  5.0456133e+00]\n",
            " [ 5.0793581e+00  1.3617985e+00 -3.8499842e+00 -1.9791466e+00\n",
            "   3.8464417e+00 -1.2990644e+00 -3.3667698e+00  8.8515610e-01\n",
            "  -4.2270860e-01 -1.3495345e+00]\n",
            " [ 1.5709352e-01 -3.1838527e-01 -1.9105899e+00  4.3830624e+00\n",
            "   3.8858807e+00 -1.0818586e-01  9.4669193e-01 -1.2525387e+00\n",
            "  -3.4064965e+00 -4.6450491e+00]\n",
            " [-2.6093035e+00 -1.7076939e-01  1.1857625e+00 -1.0427721e+00\n",
            "   3.3869727e+00 -3.8327658e+00  1.0584413e+00 -1.3060584e+00\n",
            "   3.6864170e-01 -7.9873866e-01]\n",
            " [ 5.5505896e+00 -1.3506575e+00 -3.9064133e+00 -1.2593836e+00\n",
            "  -3.8771501e+00  1.5656576e+00 -5.2948022e-01  2.6208627e+00\n",
            "  -2.0470293e+00 -1.5917586e+00]\n",
            " [-3.6710413e+00  4.1705337e-01  1.9619452e+00  1.0237159e+00\n",
            "   5.6169353e+00 -5.0976796e+00 -2.5042636e+00  8.3868629e-01\n",
            "   3.8356581e+00  1.6901958e-01]]\n",
            "Dobijen ocekivan rezultat:  True\n"
          ],
          "name": "stdout"
        }
      ]
    },
    {
      "cell_type": "markdown",
      "metadata": {
        "id": "7Nq9_fyil2PJ",
        "colab_type": "text"
      },
      "source": [
        "2. Program koji vrši množenje matrica većih dimenzija, upotrebom većeg broja CUDA blokova."
      ]
    },
    {
      "cell_type": "code",
      "metadata": {
        "id": "I6YWtV4FS565",
        "colab_type": "code",
        "colab": {}
      },
      "source": [
        "import pycuda.driver as cuda\n",
        "import pycuda.autoinit\n",
        "from pycuda.compiler import SourceModule\n",
        "\n",
        "mod = SourceModule(\"\"\" \n",
        "        __global__ void multiplyMatrixMultipleBlocksaaa(float *a,float *b, float *c,int colsB,int rowsA,int colsA){\n",
        "              long idxC = threadIdx.x + blockDim.x*blockIdx.x + threadIdx.y*colsB + blockDim.y*blockIdx.y*colsB;\n",
        "              long idxA = (threadIdx.y + blockDim.y*blockIdx.y)*colsA;\n",
        "              long idxB = blockDim.x*blockIdx.x+threadIdx.x;\n",
        "\n",
        "              if(idxB > colsB) return;\n",
        "              if(threadIdx.y + blockDim.y*blockIdx.y > rowsA) return;\n",
        "             \n",
        "\n",
        "              for(int i = 0;i<colsA;i++){\n",
        "                c[idxC] += a[idxA+i]*b[idxB];\n",
        "                idxB += colsB;\n",
        "              }\n",
        "            }\n",
        "        \"\"\")"
      ],
      "execution_count": 0,
      "outputs": []
    },
    {
      "cell_type": "code",
      "metadata": {
        "colab_type": "code",
        "outputId": "31649925-2795-4722-8dd8-6a8b2e7ad273",
        "id": "y5TI3myvYY80",
        "colab": {
          "base_uri": "https://localhost:8080/",
          "height": 488
        }
      },
      "source": [
        "import numpy as np\n",
        "import math\n",
        "\n",
        "a = np.random.randn(90,64).astype(dtype=np.float32)\n",
        "b = np.random.randn(64,50).astype(dtype=np.float32)\n",
        "\n",
        "res = a.dot(b)\n",
        "\n",
        "c = np.zeros_like(res)\n",
        "\n",
        "a_gpu = cuda.mem_alloc(a.nbytes)\n",
        "cuda.memcpy_htod(a_gpu,a)\n",
        "\n",
        "b_gpu = cuda.mem_alloc(b.nbytes)\n",
        "cuda.memcpy_htod(b_gpu,b)\n",
        "\n",
        "c_gpu = cuda.mem_alloc(c.nbytes)\n",
        "cuda.memcpy_htod(c_gpu,c)\n",
        "\n",
        "func = mod.get_function(\"multiplyMatrixMultipleBlocksaaa\")\n",
        "func(a_gpu, b_gpu, c_gpu,np.int32(b.shape[1]),np.int32(a.shape[0]),np.int32(a.shape[1]),block=(32, 32, 1), grid=(math.ceil(b.shape[1]/32), math.ceil(a.shape[0]/32), 1))\n",
        "\n",
        "cuda.memcpy_dtoh(c,c_gpu)\n",
        "print(res)\n",
        "print(\"\\n\")\n",
        "print(c)\n",
        "print(\"Dobijen ocekivan rezultat: \",(c==res).all())"
      ],
      "execution_count": 0,
      "outputs": [
        {
          "output_type": "stream",
          "text": [
            "[[  7.3198705   -4.542291     1.3440619  ...  -7.3176413    7.25597\n",
            "   -3.1695373 ]\n",
            " [  4.0502343   -6.9215407    9.709128   ...   9.708631     2.256934\n",
            "   -1.6978451 ]\n",
            " [ -2.4553452   -5.312149     0.52720547 ...   6.414436   -13.825711\n",
            "   -2.2888393 ]\n",
            " ...\n",
            " [  8.257005    -7.0827      -0.5585329  ...  -2.1756194   -2.876888\n",
            "    7.0910373 ]\n",
            " [  8.512214    -2.5961447   -1.1105841  ...  -3.6714163    7.7299633\n",
            "   -4.9011827 ]\n",
            " [ -7.176016    -8.833031    11.078852   ...  -3.1767344   -6.027856\n",
            "    1.0417136 ]]\n",
            "\n",
            "\n",
            "[[  7.3198705   -4.542291     1.3440619  ...  -7.3176413    7.25597\n",
            "   -3.1695373 ]\n",
            " [  4.0502343   -6.9215407    9.709128   ...   9.708631     2.256934\n",
            "   -1.6978451 ]\n",
            " [ -2.4553452   -5.312149     0.52720547 ...   6.414436   -13.825711\n",
            "   -2.2888393 ]\n",
            " ...\n",
            " [  8.257005    -7.0827      -0.5585329  ...  -2.1756194   -2.876888\n",
            "    7.0910373 ]\n",
            " [  8.512214    -2.5961447   -1.1105841  ...  -3.6714163    7.7299633\n",
            "   -4.9011827 ]\n",
            " [ -7.176016    -8.833031    11.078852   ...  -3.1767344   -6.027856\n",
            "    1.0417136 ]]\n",
            "Dobijen ocekivan rezultat:  True\n"
          ],
          "name": "stdout"
        }
      ]
    },
    {
      "cell_type": "markdown",
      "metadata": {
        "id": "TSWua59fa4cR",
        "colab_type": "text"
      },
      "source": [
        "3. Ubrzati rešenje iz stavke 2 upotrebom deljene memorije (tako da niti jednog bloka prvo dovuku deo podataka u deljenu memeorju, a potom sve čitaju iz deljene memorije)    "
      ]
    },
    {
      "cell_type": "code",
      "metadata": {
        "id": "gyDV6xTNbDqF",
        "colab_type": "code",
        "colab": {}
      },
      "source": [
        "import pycuda.driver as cuda\n",
        "import pycuda.autoinit\n",
        "from pycuda.compiler import SourceModule\n",
        "\n",
        "mod = SourceModule(\"\"\" \n",
        "        __global__ void multiplyMatrixMultipleBlocksSharedMemory(float *a,float *b, float *c,int rowsA, int colsA,\n",
        "                                                                  int rowsB,int colsB,int rowsC,int colsC){\n",
        "              float cValue = 0;\n",
        "\n",
        "              int row = blockIdx.y * blockDim.y + threadIdx.y;\n",
        "              int col = blockIdx.x * blockDim.y + threadIdx.x;\n",
        "\n",
        "              __shared__ float aVal[32][32];\n",
        "              __shared__ float bVal[32][32];\n",
        "\n",
        "              for(int i = 0; i < (blockDim.y + colsA - 1)/blockDim.y;i++){\n",
        "                if(i*blockDim.y + threadIdx.x < colsA && row < rowsA){\n",
        "                  aVal[threadIdx.y][threadIdx.x] = a[row*colsA + i*blockDim.y + threadIdx.x];\n",
        "                } else {\n",
        "                  aVal[threadIdx.y][threadIdx.x] = 0.0;\n",
        "                }\n",
        "\n",
        "                if(i * blockDim.y + threadIdx.y < rowsB && col < colsB){\n",
        "                  bVal[threadIdx.y][threadIdx.x] = b[(i*blockDim.y + threadIdx.y)* colsB + col];\n",
        "                } else {\n",
        "                  bVal[threadIdx.y][threadIdx.x] = 0.0;\n",
        "                }\n",
        "\n",
        "                __syncthreads();\n",
        "\n",
        "                for(int j = 0 ; j < blockDim.y ; ++j){\n",
        "                  cValue += aVal[threadIdx.y][j] * bVal[j][threadIdx.x];\n",
        "                }\n",
        "\n",
        "                __syncthreads();\n",
        "\n",
        "                if(row < rowsC && col < colsC){\n",
        "                  c[((blockIdx.y * blockDim.y) + threadIdx.y) * colsC + (blockIdx.x * blockDim.x) + threadIdx.x] = cValue;\n",
        "                }                \n",
        "              } \n",
        "            }\n",
        "        \"\"\")"
      ],
      "execution_count": 0,
      "outputs": []
    },
    {
      "cell_type": "code",
      "metadata": {
        "id": "3NSj8zEKbKQ7",
        "colab_type": "code",
        "outputId": "47e4b029-1feb-4df7-bb05-7d5815e6f6fb",
        "colab": {
          "base_uri": "https://localhost:8080/",
          "height": 488
        }
      },
      "source": [
        "import numpy as np\n",
        "import math\n",
        "\n",
        "a = np.random.randn(40,64).astype(dtype=np.float32)\n",
        "b = np.random.randn(64,90).astype(dtype=np.float32)\n",
        "\n",
        "res = a.dot(b)\n",
        "\n",
        "c = np.zeros_like(res)\n",
        "\n",
        "a_gpu = cuda.mem_alloc(a.nbytes)\n",
        "cuda.memcpy_htod(a_gpu,a)\n",
        "\n",
        "b_gpu = cuda.mem_alloc(b.nbytes)\n",
        "cuda.memcpy_htod(b_gpu,b)\n",
        "\n",
        "c_gpu = cuda.mem_alloc(c.nbytes)\n",
        "cuda.memcpy_htod(c_gpu,c)\n",
        "\n",
        "func = mod.get_function(\"multiplyMatrixMultipleBlocksSharedMemory\")\n",
        "func(a_gpu, b_gpu, c_gpu,np.int32(a.shape[0]),np.int32(a.shape[1]),np.int32(b.shape[0]),np.int32(b.shape[1]),\n",
        "     np.int32(a.shape[0]),np.int32(b.shape[1]),block=(32, 32, 1), grid=(math.ceil(b.shape[1]/32), math.ceil(a.shape[0]/32), 1))\n",
        "\n",
        "cuda.memcpy_dtoh(c,c_gpu)\n",
        "print(res)\n",
        "print(\"\\n\")\n",
        "print(c)\n",
        "print(\"Dobijen ocekivan rezultat: \",(c==res).all())"
      ],
      "execution_count": 0,
      "outputs": [
        {
          "output_type": "stream",
          "text": [
            "[[  7.6361303   -4.492075     0.95769763 ...   4.324452    -7.24102\n",
            "    2.2083914 ]\n",
            " [ -2.6228824  -16.324022    -3.7561815  ...   1.7153242   -2.4590335\n",
            "    8.217871  ]\n",
            " [ -2.7524567    2.3109167   10.139936   ...   1.5209172   -0.6137072\n",
            "   -9.850053  ]\n",
            " ...\n",
            " [ -1.426733   -10.932176     9.833535   ...  -9.744608    -9.171083\n",
            "   -5.959076  ]\n",
            " [  3.2013073  -21.283293   -11.389342   ... -17.901306    -4.1969113\n",
            "    3.023788  ]\n",
            " [ -1.0582824    4.341552     5.0392947  ...   3.5763683   -5.9991574\n",
            "   -3.5220878 ]]\n",
            "\n",
            "\n",
            "[[  7.6361303   -4.492075     0.95769763 ...   4.324452    -7.24102\n",
            "    2.2083914 ]\n",
            " [ -2.6228824  -16.324022    -3.7561815  ...   1.7153242   -2.4590335\n",
            "    8.217871  ]\n",
            " [ -2.7524567    2.3109167   10.139936   ...   1.5209172   -0.6137072\n",
            "   -9.850053  ]\n",
            " ...\n",
            " [ -1.426733   -10.932176     9.833535   ...  -9.744608    -9.171083\n",
            "   -5.959076  ]\n",
            " [  3.2013073  -21.283293   -11.389342   ... -17.901306    -4.1969113\n",
            "    3.023788  ]\n",
            " [ -1.0582824    4.341552     5.0392947  ...   3.5763683   -5.9991574\n",
            "   -3.5220878 ]]\n",
            "Dobijen ocekivan rezultat:  True\n"
          ],
          "name": "stdout"
        }
      ]
    },
    {
      "cell_type": "markdown",
      "metadata": {
        "id": "heZUmNQDZ3YI",
        "colab_type": "text"
      },
      "source": [
        "4. Izmeniti rešenje iz tačke 3 tako da se pri množenju druga matrica transponuje ($Rezultat = A \\cdot B^T$)"
      ]
    },
    {
      "cell_type": "code",
      "metadata": {
        "id": "yd2lGqe0Z66k",
        "colab_type": "code",
        "colab": {}
      },
      "source": [
        ""
      ],
      "execution_count": 0,
      "outputs": []
    }
  ]
}